{
  "nbformat": 4,
  "nbformat_minor": 0,
  "metadata": {
    "colab": {
      "provenance": [],
      "authorship_tag": "ABX9TyPfljSxBWqEIWVhyUu9RsuK",
      "include_colab_link": true
    },
    "kernelspec": {
      "name": "python3",
      "display_name": "Python 3"
    },
    "language_info": {
      "name": "python"
    }
  },
  "cells": [
    {
      "cell_type": "markdown",
      "metadata": {
        "id": "view-in-github",
        "colab_type": "text"
      },
      "source": [
        "<a href=\"https://colab.research.google.com/github/Pedrokaike/python/blob/main/python.ipynb\" target=\"_parent\"><img src=\"https://colab.research.google.com/assets/colab-badge.svg\" alt=\"Open In Colab\"/></a>"
      ]
    },
    {
      "cell_type": "markdown",
      "source": [
        "#**Aula 1**  ⚓: ♈ ⚛"
      ],
      "metadata": {
        "id": "tmm5vTdKySxa"
      }
    },
    {
      "cell_type": "code",
      "source": [
        "print(\"I competição de programação dá Start\")\n",
        "ano = \"II\"\n",
        "print(ano, \"competição de programação da Start\")\n",
        "print(f\"{ano} competição de programação da Start\")"
      ],
      "metadata": {
        "id": "6ORRoyGNw9c_",
        "outputId": "d5148ac9-6d38-4ab8-a955-b4a774af0474",
        "colab": {
          "base_uri": "https://localhost:8080/"
        }
      },
      "execution_count": null,
      "outputs": [
        {
          "output_type": "stream",
          "name": "stdout",
          "text": [
            "I competição de programação dá Start\n",
            "II competição de programação da Start\n",
            "II competição de programação da Start\n"
          ]
        }
      ]
    },
    {
      "cell_type": "markdown",
      "source": [
        "#**Aula 2** ⛓ ◀ ▪"
      ],
      "metadata": {
        "id": "RVJkh6OjysDF"
      }
    },
    {
      "cell_type": "code",
      "source": [
        "livro_ficcao = 8\n",
        "livro_n_ficcao = 10\n",
        "livro_infantil = 6\n",
        "pontos_rodrigo = livro_ficcao + livro_n_ficcao + livro_infantil\n",
        "print(f\"Os pontos totais do Rodrigo são {pontos_rodrigo}\")"
      ],
      "metadata": {
        "id": "EWO6ljb7xZcz",
        "outputId": "5916fe04-6413-43d3-ec3c-dc8887b88484",
        "colab": {
          "base_uri": "https://localhost:8080/"
        }
      },
      "execution_count": null,
      "outputs": [
        {
          "output_type": "stream",
          "name": "stdout",
          "text": [
            "Os pontos totais do Rodrigo são 24\n"
          ]
        }
      ]
    },
    {
      "cell_type": "markdown",
      "source": [
        "#**aula** 3 ☣ ☠ ☯"
      ],
      "metadata": {
        "id": "9hRQiO_6vfxS"
      }
    },
    {
      "cell_type": "code",
      "source": [
        "numero_de_alunos = int(input(\"Digite a quantidade de alunos: \"))\n",
        "numero_de_monitores = int(input(\"Digite a quantidade de monitores: \"))\n",
        "numero_de_professores = 8\n",
        "if numero_de_alunos + numero_de_monitores + numero_de_professores <= 50:\n",
        "  resposta_positiva = \"pode ir\"\n",
        "resposta_negativa = \"não pode ir\"\n",
        "if numero_de_alunos + numero_de_monitores + numero_de_professores <= 50:\n",
        "  print(resposta_positiva)\n",
        "else:\n",
        "  print(resposta_negativa)\n"
      ],
      "metadata": {
        "colab": {
          "base_uri": "https://localhost:8080/"
        },
        "id": "UMRaPhGpwNU_",
        "outputId": "baf948c8-3516-42a2-f6e2-9c6ced651c9a"
      },
      "execution_count": null,
      "outputs": [
        {
          "output_type": "stream",
          "name": "stdout",
          "text": [
            "Digite a quantidade de alunos: 40\n",
            "Digite a quantidade de monitores: 8\n",
            "não pode ir\n"
          ]
        }
      ]
    },
    {
      "cell_type": "markdown",
      "source": [
        "#**Aula 4** ➕ ⛑ **🎱**"
      ],
      "metadata": {
        "id": "EwzW94jozI9Z"
      }
    },
    {
      "cell_type": "code",
      "source": [
        "P = int(input(\"Digite a posição da porta P (0 ou 1): \"))\n",
        "R = int(input(\"Digite a posição da porta R (0 ou 1): \"))\n",
        "if P == 0:\n",
        "    print(\"C\")\n",
        "elif R == 1:\n",
        "    print(\"A\")\n",
        "else:\n",
        "    print(\"B\")\n",
        "\n"
      ],
      "metadata": {
        "id": "6q79UdVJ1tIR",
        "outputId": "b59739d7-b76b-48d2-9e5b-e83c57b111cd",
        "colab": {
          "base_uri": "https://localhost:8080/"
        }
      },
      "execution_count": null,
      "outputs": [
        {
          "output_type": "stream",
          "name": "stdout",
          "text": [
            "Digite a posição da porta P (0 ou 1): 1\n",
            "Digite a posição da porta R (0 ou 1): 0\n",
            "B\n"
          ]
        }
      ]
    },
    {
      "cell_type": "markdown",
      "source": [
        "**#Aula 7** ✈ ⏰ ⚗"
      ],
      "metadata": {
        "id": "QwcXpPyu3GO3"
      }
    },
    {
      "cell_type": "code",
      "source": [
        "print(\"Sou seu assistente virtual, como posso ajudar?\\n \")\n",
        "nome= input(\"digite o seu nome: \")\n",
        "print(\"Olá, \"+ nome + \". Qual é a sua dúvida hoje?\" )"
      ],
      "metadata": {
        "colab": {
          "base_uri": "https://localhost:8080/"
        },
        "id": "3T-vzwN93fwp",
        "outputId": "8a32ac93-1668-4da9-9a35-8c051e69f23c"
      },
      "execution_count": null,
      "outputs": [
        {
          "output_type": "stream",
          "name": "stdout",
          "text": [
            "Sou seu assistente virtual, como posso ajudar?\n",
            " \n",
            "digite o seu nome: pedro\n",
            "Olá, pedro. Qual é a sua dúvida hoje?\n"
          ]
        }
      ]
    },
    {
      "cell_type": "code",
      "source": [
        "print(\"Sou seu assistente virtual, como posso ajudar?\\n \")\n",
        "nome= input(\"digite o seu nome: \")\n",
        "print(f\"Olá, {nome}. Qual é a sua dúvida hoje?\" )\n",
        "resposta = input(\"Qual o assunto que vamos tratar hoje: Matemática , Python , Javascript\").lower()\n",
        "print(f\"Que bom, {nome}, vamos falar sobre {resposta}\")"
      ],
      "metadata": {
        "colab": {
          "base_uri": "https://localhost:8080/"
        },
        "id": "TweKgvR2-Uwk",
        "outputId": "16ecf31c-1a23-4bba-8040-f13af20aef01"
      },
      "execution_count": null,
      "outputs": [
        {
          "output_type": "stream",
          "name": "stdout",
          "text": [
            "Sou seu assistente virtual, como posso ajudar?\n",
            " \n",
            "digite o seu nome: pedro\n",
            "Olá, pedro. Qual é a sua dúvida hoje?\n",
            "Qual o assunto que vamos tratar hoje: Matemática , Python , JavascriptMatemática\n",
            "Que bom, pedro, vamos falar sobre matemática\n"
          ]
        }
      ]
    }
  ]
}
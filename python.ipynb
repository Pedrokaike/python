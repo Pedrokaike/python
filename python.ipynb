{
  "nbformat": 4,
  "nbformat_minor": 0,
  "metadata": {
    "colab": {
      "provenance": [],
      "authorship_tag": "ABX9TyMl0RuGAhIqTJLn6s2y3m28",
      "include_colab_link": true
    },
    "kernelspec": {
      "name": "python3",
      "display_name": "Python 3"
    },
    "language_info": {
      "name": "python"
    }
  },
  "cells": [
    {
      "cell_type": "markdown",
      "metadata": {
        "id": "view-in-github",
        "colab_type": "text"
      },
      "source": [
        "<a href=\"https://colab.research.google.com/github/Pedrokaike/python/blob/main/python.ipynb\" target=\"_parent\"><img src=\"https://colab.research.google.com/assets/colab-badge.svg\" alt=\"Open In Colab\"/></a>"
      ]
    },
    {
      "cell_type": "markdown",
      "source": [
        "#**Aula 1**  ⚓: ♈ ⚛"
      ],
      "metadata": {
        "id": "tmm5vTdKySxa"
      }
    },
    {
      "cell_type": "code",
      "source": [
        "print(\"I competição de programação dá Start\")\n",
        "ano = \"II\"\n",
        "print(ano, \"competição de programação da Start\")\n",
        "print(f\"{ano} competição de programação da Start\")"
      ],
      "metadata": {
        "id": "6ORRoyGNw9c_",
        "outputId": "d5148ac9-6d38-4ab8-a955-b4a774af0474",
        "colab": {
          "base_uri": "https://localhost:8080/"
        }
      },
      "execution_count": null,
      "outputs": [
        {
          "output_type": "stream",
          "name": "stdout",
          "text": [
            "I competição de programação dá Start\n",
            "II competição de programação da Start\n",
            "II competição de programação da Start\n"
          ]
        }
      ]
    },
    {
      "cell_type": "markdown",
      "source": [
        "#**Aula 2** ⛓ ◀ ▪"
      ],
      "metadata": {
        "id": "RVJkh6OjysDF"
      }
    },
    {
      "cell_type": "code",
      "source": [
        "livro_ficcao = 8\n",
        "livro_n_ficcao = 10\n",
        "livro_infantil = 6\n",
        "pontos_rodrigo = livro_ficcao + livro_n_ficcao + livro_infantil\n",
        "print(f\"Os pontos totais do Rodrigo são {pontos_rodrigo}\")"
      ],
      "metadata": {
        "id": "EWO6ljb7xZcz",
        "outputId": "5916fe04-6413-43d3-ec3c-dc8887b88484",
        "colab": {
          "base_uri": "https://localhost:8080/"
        }
      },
      "execution_count": null,
      "outputs": [
        {
          "output_type": "stream",
          "name": "stdout",
          "text": [
            "Os pontos totais do Rodrigo são 24\n"
          ]
        }
      ]
    },
    {
      "cell_type": "markdown",
      "source": [
        "#**aula** 3 ☣ ☠ ☯"
      ],
      "metadata": {
        "id": "9hRQiO_6vfxS"
      }
    },
    {
      "cell_type": "code",
      "source": [
        "numero_de_alunos = int(input(\"Digite a quantidade de alunos: \"))\n",
        "numero_de_monitores = int(input(\"Digite a quantidade de monitores: \"))\n",
        "numero_de_professores = 8\n",
        "if numero_de_alunos + numero_de_monitores + numero_de_professores <= 50:\n",
        "  resposta_positiva = \"pode ir\"\n",
        "resposta_negativa = \"não pode ir\"\n",
        "if numero_de_alunos + numero_de_monitores + numero_de_professores <= 50:\n",
        "  print(resposta_positiva)\n",
        "else:\n",
        "  print(resposta_negativa)\n"
      ],
      "metadata": {
        "colab": {
          "base_uri": "https://localhost:8080/"
        },
        "id": "UMRaPhGpwNU_",
        "outputId": "baf948c8-3516-42a2-f6e2-9c6ced651c9a"
      },
      "execution_count": null,
      "outputs": [
        {
          "output_type": "stream",
          "name": "stdout",
          "text": [
            "Digite a quantidade de alunos: 40\n",
            "Digite a quantidade de monitores: 8\n",
            "não pode ir\n"
          ]
        }
      ]
    },
    {
      "cell_type": "markdown",
      "source": [
        "#**Aula 4** ➕ ⛑ **🎱**"
      ],
      "metadata": {
        "id": "EwzW94jozI9Z"
      }
    },
    {
      "cell_type": "code",
      "source": [
        "P = int(input(\"Digite a posição da porta P (0 ou 1): \"))\n",
        "R = int(input(\"Digite a posição da porta R (0 ou 1): \"))\n",
        "if P == 0:\n",
        "    print(\"C\")\n",
        "elif R == 1:\n",
        "    print(\"A\")\n",
        "else:\n",
        "    print(\"B\")\n",
        "\n"
      ],
      "metadata": {
        "id": "6q79UdVJ1tIR",
        "outputId": "b59739d7-b76b-48d2-9e5b-e83c57b111cd",
        "colab": {
          "base_uri": "https://localhost:8080/"
        }
      },
      "execution_count": null,
      "outputs": [
        {
          "output_type": "stream",
          "name": "stdout",
          "text": [
            "Digite a posição da porta P (0 ou 1): 1\n",
            "Digite a posição da porta R (0 ou 1): 0\n",
            "B\n"
          ]
        }
      ]
    },
    {
      "cell_type": "markdown",
      "source": [
        "**#Aula 7** ✈ ⏰ ⚗"
      ],
      "metadata": {
        "id": "QwcXpPyu3GO3"
      }
    },
    {
      "cell_type": "code",
      "source": [
        "print(\"Sou seu assistente virtual, como posso ajudar?\\n \")\n",
        "nome= input(\"digite o seu nome: \")\n",
        "print(\"Olá, \"+ nome + \". Qual é a sua dúvida hoje?\" )"
      ],
      "metadata": {
        "colab": {
          "base_uri": "https://localhost:8080/"
        },
        "id": "3T-vzwN93fwp",
        "outputId": "8a32ac93-1668-4da9-9a35-8c051e69f23c"
      },
      "execution_count": null,
      "outputs": [
        {
          "output_type": "stream",
          "name": "stdout",
          "text": [
            "Sou seu assistente virtual, como posso ajudar?\n",
            " \n",
            "digite o seu nome: pedro\n",
            "Olá, pedro. Qual é a sua dúvida hoje?\n"
          ]
        }
      ]
    },
    {
      "cell_type": "code",
      "source": [
        "print(\"Sou seu assistente virtual, como posso ajudar?\\n \")\n",
        "nome= input(\"digite o seu nome: \")\n",
        "print(f\"Olá, {nome}. Qual é a sua dúvida hoje?\" )\n",
        "resposta = input(\"Qual o assunto que vamos tratar hoje: Matemática , Python , Javascript. \").lower()\n",
        "if resposta == \"python\":\n",
        " print(f\"Que bom, {nome}, vamos falar sobre python. A função do Python é servir como uma linguagem de programação — ou seja, um meio que permite que pessoas escrevam instruções para o computador executar tarefas. De forma geral, o Python é usado para: 🧮 Automatização de tarefas Criar scripts que fazem trabalhos repetitivos automaticamente (como organizar arquivos, coletar dados, etc.)🌐 Desenvolvimento web Construir sites e aplicações web usando frameworks como Django e Flask. 📊 Análise de dados e ciência de dados Usado por cientistas e analistas para processar, visualizar e analisar grandes quantidades de dados (com bibliotecas como pandas, NumPy, Matplotlib). 🤖 Inteligência Artificial e Machine Learning Criar modelos de aprendizado de máquina e IA com TensorFlow, PyTorch e outras bibliotecas. 🧩 Desenvolvimento de software e aplicações Criar programas completos, ferramentas de linha de comando, interfaces gráficas e até jogos (com Tkinter, PyQt, Pygame). 🔧 Educação e aprendizado É muito usado para ensinar programação, pois sua sintaxe é simples e fácil de entender.\")\n",
        "elif resposta == \"javascript\":\n",
        " print(f\"Que bom, {nome}, vamos falar sobre javascript. A principal função do JavaScript é tornar as páginas web interativas e dinâmicas. Ele é uma das três tecnologias centrais da World Wide Web (juntamente com HTML e CSS) e permite que você: Manipule o Conteúdo (DOM): Adicione, remova ou modifique elementos HTML e o estilo CSS de uma página depois que ela foi carregada. Por exemplo, mudar a cor de um botão quando o mouse passa sobre ele ou exibir uma mensagem de erro em um formulário. Trate Eventos: Responda a ações do usuário, como cliques de mouse, pressionamento de teclas, ou submissão de formulários. Comunique-se com o Servidor (AJAX/Fetch): Envie e receba dados de um servidor sem precisar recarregar a página inteira, o que é essencial para aplicações modernas (como feeds de notícias que atualizam em tempo real). Valide Dados: Verifique se as informações inseridas pelo usuário em um formulário estão corretas antes de enviá-las para o servidor. Criar Funções (Lógica de Programação): Como em outras linguagens, o JavaScript usa funções para agrupar blocos de código que realizam tarefas específicas, tornando o código mais organizado e reutilizável. 🌐 Além do Navegador Back-end (Servidor): Com plataformas como o Node.js, ele pode ser usado para construir servidores, APIs e sistemas completos. Desenvolvimento Mobile: Com frameworks como React Native e NativeScript. Desenvolvimento Desktop: Com tecnologias como Electron.\")\n",
        "elif resposta == \"matematica\":\n",
        " print(f\"Que bom, {nome}, vamos falar sobre matematica. A Matemática é uma das áreas do conhecimento mais antigas e fundamentais.Em sua essência, a Matemática é a ciência que estuda os:Números e as relações entre eles (Aritmética).Fórmulas e Estruturas (Álgebra).Formas, Tamanhos e Posições no espaço (Geometria).Quantidades e suas Mudanças (Cálculo e Análise).Lógica e o Raciocínio Dedutivo.🌟 Visão GeralA Matemática serve como uma linguagem universal que nos permite descrever, analisar e compreender o mundo ao nosso redor, desde o funcionamento das estrelas até a construção de algoritmos de computador.AspectoO que EstudaExemplos de ÁreasPura (Teórica)Concentra-se na exploração de conceitos teóricos e estruturas lógicas, buscando expandir o conhecimento em si.Álgebra, Análise, Geometria Pura, Teoria dos Números.Aplicada (Prática)Utiliza técnicas matemáticas para resolver problemas em contextos práticos.Estatística, Engenharia, Economia, Física, Computação, Matemática Financeira.💡 Por que ela é importante?Base para as Ciências Exatas: É o alicerce para a Física, Química e Engenharia.Tecnologia: Fundamenta a programação, a criptografia, os algoritmos e a Inteligência Artificial.Raciocínio Lógico: Ajuda a desenvolver a capacidade de resolver problemas complexos e de pensar de forma estruturada.Vida Cotidiana: Está presente em cálculos financeiros, medições e na análise de dados.\")\n",
        "else:\n",
        "  print(\"Desculpa, não sei tratar sobre esse assunto.\")"
      ],
      "metadata": {
        "colab": {
          "base_uri": "https://localhost:8080/"
        },
        "id": "TweKgvR2-Uwk",
        "outputId": "2fcb2771-5078-4f80-bd69-ad121abe1e26"
      },
      "execution_count": 3,
      "outputs": [
        {
          "output_type": "stream",
          "name": "stdout",
          "text": [
            "Sou seu assistente virtual, como posso ajudar?\n",
            " \n",
            "digite o seu nome: pedro\n",
            "Olá, pedro. Qual é a sua dúvida hoje?\n",
            "Qual o assunto que vamos tratar hoje: Matemática , Python , Javascript. erciuwebd\n",
            "Desculpa, não sei tratar sobre esse assunto.\n"
          ]
        }
      ]
    },
    {
      "cell_type": "markdown",
      "source": [
        "**Aula 8:** ◀ ✔ ❤"
      ],
      "metadata": {
        "id": "5hXD0TaKB7Jc"
      }
    },
    {
      "cell_type": "code",
      "source": [],
      "metadata": {
        "id": "wt1nT6a1COw6"
      },
      "execution_count": null,
      "outputs": []
    }
  ]
}